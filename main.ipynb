{
 "cells": [
  {
   "attachments": {},
   "cell_type": "markdown",
   "metadata": {},
   "source": [
    "### Rotten fruit detection"
   ]
  },
  {
   "attachments": {},
   "cell_type": "markdown",
   "metadata": {},
   "source": [
    "Jag har ett problem. Varje gång jag ska äta ett äpple eller banan vet jag inte om den är rutten eller inte. Så därför ska jag använda en AI för att ta reda på det.\n",
    "Jag vill att den ska ta reda på om ett äpple eller en banan är rutten eller mogen. \n",
    "\n",
    "Jag har hittat den datan jag behöver med cirka 8000 bilder på äpplen och bananer. Jag har kollat genom den och dom använde ett smart sätt att få ut\n",
    "mer data från få bilder. Genom att rotera,invertera och ändra färgerna på bilerna kan man skapa massa \"nya\" bilder som gör att man får ett större dataset om man inte har så många bilder. \n",
    "\n",
    "Problemet jag har är ett klassificerings problem eftersom jag vill classa frukter i mogen äpple,rutten äpple och mogen banan,rutten banan.\n",
    "\n",
    "Jag kommer själv att labla datat efterom dom är i varsin mapp så det är enkelt att göra så. Hade dom däremot varit i en och samma mapp hade jag nog testat unsupervised learning och sett om jag genom det kan labla dom."
   ]
  }
 ],
 "metadata": {
  "language_info": {
   "name": "python"
  },
  "orig_nbformat": 4
 },
 "nbformat": 4,
 "nbformat_minor": 2
}
